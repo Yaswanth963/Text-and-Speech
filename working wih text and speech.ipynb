{
 "cells": [
  {
   "cell_type": "markdown",
   "metadata": {},
   "source": [
    "## Text to speech"
   ]
  },
  {
   "cell_type": "code",
   "execution_count": null,
   "metadata": {},
   "outputs": [],
   "source": [
    "from gtts import gTTS\n",
    "import os\n",
    "file=open(\"E:\\\\romeo.txt\",'r')\n",
    "txt=file.read().replace('\\n',' ')\n",
    "lang='en'\n",
    "output=gTTS(text=txt,lang=lang,slow=False)\n",
    "output.save(\"text_to_speech.mp3\")\n",
    "os.system(\"start text_to_speech.mp3\")\n"
   ]
  },
  {
   "cell_type": "markdown",
   "metadata": {},
   "source": [
    "## Speech recognition"
   ]
  },
  {
   "cell_type": "code",
   "execution_count": null,
   "metadata": {},
   "outputs": [],
   "source": [
    "import speech_recognition as sr\n",
    "r=sr.Recognizer()\n",
    "with sr.Microphone() as source:\n",
    "    print(\"listening...\")\n",
    "    audio=r.listen(source)\n",
    "    \n",
    "    try:\n",
    "        text=r.recognize_google(audio)\n",
    "        print(text)\n",
    "    except:\n",
    "        print(\"cannot recognize\")\n",
    "        \n",
    "#try out in cmd"
   ]
  }
 ],
 "metadata": {
  "kernelspec": {
   "display_name": "Python 3",
   "language": "python",
   "name": "python3"
  },
  "language_info": {
   "codemirror_mode": {
    "name": "ipython",
    "version": 3
   },
   "file_extension": ".py",
   "mimetype": "text/x-python",
   "name": "python",
   "nbconvert_exporter": "python",
   "pygments_lexer": "ipython3",
   "version": "3.7.4"
  }
 },
 "nbformat": 4,
 "nbformat_minor": 2
}
